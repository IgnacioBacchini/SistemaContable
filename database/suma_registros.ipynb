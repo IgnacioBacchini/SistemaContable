{
 "cells": [
  {
   "cell_type": "code",
   "execution_count": 1,
   "metadata": {},
   "outputs": [
    {
     "name": "stdout",
     "output_type": "stream",
     "text": [
      "EMPRESA\n",
      "sqlite_sequence\n",
      "MONEDA\n",
      "CONCEPTO\n",
      "INVERSOR\n",
      "CUENTAS\n",
      "INDICE CAC\n",
      "USUARIO\n",
      "TASA\n",
      "RELACION MOVIMIENTOS\n"
     ]
    }
   ],
   "source": [
    "import sqlite3\n",
    "\n",
    "# Conecta a la base de datos SQLite\n",
    "conn = sqlite3.connect('SistemaPRU.db')\n",
    "\n",
    "# Crea un objeto cursor\n",
    "cursor = conn.cursor()\n",
    "\n",
    "# Ejecuta una consulta SQL para obtener los nombres de todas las tablas\n",
    "cursor.execute(\"SELECT name FROM sqlite_master WHERE type='table';\")\n",
    "\n",
    "# Obtiene los resultados de la consulta\n",
    "tabla_resultados = cursor.fetchall()\n",
    "\n",
    "# Cierra la conexión a la base de datos\n",
    "conn.close()\n",
    "\n",
    "# Imprime los nombres de las tablas\n",
    "for tabla in tabla_resultados:\n",
    "    print(tabla[0])"
   ]
  }
 ],
 "metadata": {
  "kernelspec": {
   "display_name": "basico",
   "language": "python",
   "name": "python3"
  },
  "language_info": {
   "codemirror_mode": {
    "name": "ipython",
    "version": 3
   },
   "file_extension": ".py",
   "mimetype": "text/x-python",
   "name": "python",
   "nbconvert_exporter": "python",
   "pygments_lexer": "ipython3",
   "version": "3.11.7"
  }
 },
 "nbformat": 4,
 "nbformat_minor": 2
}
